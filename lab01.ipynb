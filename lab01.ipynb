{
 "cells": [
  {
   "attachments": {},
   "cell_type": "markdown",
   "metadata": {},
   "source": [
    "# Построение НКА по регулярному выражению"
   ]
  },
  {
   "cell_type": "code",
   "execution_count": 1029,
   "metadata": {},
   "outputs": [],
   "source": [
    "def star(graph: dict,\n",
    "         symbol: str,\n",
    "         cur_state: int):\n",
    "    graph[f\"A{cur_state}\"] = [(\"EMPTY\", f\"A{cur_state + 1}\")]\n",
    "    cur_state += 1\n",
    "\n",
    "    if len(symbol) == 1:\n",
    "        graph[f\"A{cur_state}\"] = [(symbol, f\"A{cur_state}\")]\n",
    "        cur_state += 1\n",
    "    elif len(symbol) > 1:\n",
    "        start_state = cur_state\n",
    "        for i in symbol:\n",
    "            graph[f\"A{cur_state}\"] = [(i, f\"A{cur_state + 1}\")]\n",
    "            cur_state += 1\n",
    "        \n",
    "        graph[f\"A{cur_state - 1}\"].append((symbol[0], f\"A{start_state}\"))\n",
    "    \n",
    "    graph[f\"A{cur_state - 1}\"].append((\"EMPTY\", f\"A{cur_state}\"))\n",
    "\n",
    "    return graph, cur_state\n",
    "\n",
    "\n",
    "def question(graph: dict,\n",
    "             symbol: str,\n",
    "             cur_state: int):\n",
    "    if len(symbol) == 1:\n",
    "        graph[f\"A{cur_state}\"] = [(symbol, f\"A{cur_state + 1}\")]\n",
    "        cur_state += 1\n",
    "\n",
    "        graph[f\"A{cur_state - 1}\"].append((\"EMPTY\", f\"A{cur_state}\"))\n",
    "    elif len(symbol) > 1:\n",
    "        start_state = cur_state\n",
    "\n",
    "        for i in symbol:\n",
    "            graph[f\"A{cur_state}\"] = [(i, f\"A{cur_state + 1}\")]\n",
    "            cur_state += 1\n",
    "        \n",
    "        graph[f\"A{start_state}\"].append((\"EMPTY\", f\"A{cur_state}\"))\n",
    "\n",
    "    return graph, cur_state\n",
    "\n",
    "\n",
    "def plus(graph: dict,\n",
    "         symbol: str,\n",
    "         cur_state: int):\n",
    "    if len(symbol) == 1:\n",
    "        graph[f\"A{cur_state}\"] = [(symbol, f\"A{cur_state + 1}\")]\n",
    "        cur_state += 1\n",
    "        graph[f\"A{cur_state}\"] = [(symbol, f\"A{cur_state}\")]\n",
    "        cur_state += 1\n",
    "    elif len(symbol) > 1:\n",
    "        start_state = cur_state\n",
    "        for i in symbol:\n",
    "            graph[f\"A{cur_state}\"] = [(i, f\"A{cur_state + 1}\")]\n",
    "            cur_state += 1\n",
    "        \n",
    "        graph[f\"A{cur_state - 1}\"].append((symbol[0], f\"A{start_state}\"))\n",
    "    \n",
    "    graph[f\"A{cur_state - 1}\"].append((\"EMPTY\", f\"A{cur_state}\"))\n",
    "\n",
    "    return graph, cur_state\n",
    "\n",
    "\n",
    "def slash(graph: dict,\n",
    "          symbol: str,\n",
    "          cur_state: int):\n",
    "    pass"
   ]
  },
  {
   "cell_type": "code",
   "execution_count": 1030,
   "metadata": {},
   "outputs": [],
   "source": [
    "def create_graph(s: str):\n",
    "    cur_state = 0\n",
    "    start_state = f\"A{cur_state}\"\n",
    "    graph = dict()\n",
    "\n",
    "    for i in range(len(s)):\n",
    "        if i + 1 < len(s) and s[i + 1] == '*':\n",
    "            graph, cur_state = star(graph, s[i], cur_state)\n",
    "        elif i + 1 < len(s) and s[i + 1] == '+':\n",
    "            graph, cur_state = plus(graph, s[i], cur_state)\n",
    "        elif i + 1 < len(s) and s[i + 1] == '?':\n",
    "            graph, cur_state = question(graph, s[i], cur_state)\n",
    "        elif i + 2 < len(s) and s[i + 1] == '|':\n",
    "            graph, cur_state = slash(graph, s[i], s[i + 2], cur_state)\n",
    "        elif s[i] in ('*', '+', '?', '|'):\n",
    "            continue\n",
    "        else:\n",
    "            graph[f\"A{cur_state}\"] = [(s[i], f\"A{cur_state + 1}\")]\n",
    "            cur_state += 1\n",
    "    \n",
    "    return graph, start_state, f\"A{cur_state}\""
   ]
  },
  {
   "attachments": {},
   "cell_type": "markdown",
   "metadata": {},
   "source": [
    "# Избавление от е-дуг"
   ]
  },
  {
   "cell_type": "code",
   "execution_count": 1031,
   "metadata": {},
   "outputs": [],
   "source": [
    "def check_depth(graph: dict,\n",
    "                cur_state: str,\n",
    "                depth: int = 0,\n",
    "                states: list = list()\n",
    "                ) -> list:\n",
    "    if cur_state in graph.keys():\n",
    "        if depth == 0:\n",
    "            for transit in graph[cur_state]:\n",
    "                if transit[1] not in states and transit[0] != \"EMPTY\":\n",
    "                    states.append(transit[1])\n",
    "                    states.extend(check_depth(graph, transit[1], depth + 1, states))\n",
    "        else:\n",
    "            for transit in graph[cur_state]:\n",
    "                if transit[1] not in states and transit[0] == \"EMPTY\":\n",
    "                    if transit[1] not in states:\n",
    "                        states.append(transit[1])\n",
    "                        states.extend(check_depth(graph, transit[1], depth + 1, states))\n",
    "\n",
    "    states = list(set(states))\n",
    "    \n",
    "    return states"
   ]
  },
  {
   "cell_type": "code",
   "execution_count": 1032,
   "metadata": {},
   "outputs": [
    {
     "data": {
      "text/plain": [
       "['A3', 'A2', 'A4']"
      ]
     },
     "execution_count": 1032,
     "metadata": {},
     "output_type": "execute_result"
    }
   ],
   "source": [
    "check_depth(nka, \"A1\", depth=0, states=list())"
   ]
  },
  {
   "cell_type": "code",
   "execution_count": 1033,
   "metadata": {},
   "outputs": [],
   "source": [
    "def delete_missing_states(graph: dict) -> dict:\n",
    "    res = dict()\n",
    "\n",
    "    missing = list()\n",
    "    for state in graph.keys():\n",
    "        if len(graph[state]) == 0:\n",
    "            missing.append(state)\n",
    "    \n",
    "    for state in missing:\n",
    "        graph.pop(state)\n",
    "\n",
    "    for state in graph.keys():\n",
    "        res[state] = list()\n",
    "        for transit in graph[state]:\n",
    "            if transit[1] not in missing:\n",
    "                res[state].append(transit)\n",
    "    \n",
    "    return res"
   ]
  },
  {
   "cell_type": "code",
   "execution_count": 1034,
   "metadata": {},
   "outputs": [],
   "source": [
    "def lose_emptys(graph: dict,\n",
    "                start_state: str,\n",
    "                fin_state: str):\n",
    "    states = dict()\n",
    "    emptys = dict()\n",
    "    for state in graph.keys():\n",
    "        states[state] = list()\n",
    "        emptys[state] = check_depth(graph, state, depth=0, states=list())\n",
    "\n",
    "    for state in states.keys():\n",
    "        for transit in graph[state]:\n",
    "            if transit[0] != \"EMPTY\":\n",
    "                for emp in emptys[state]:\n",
    "                    states[state].append((transit[0], emp))\n",
    "    \n",
    "    states = delete_missing_states(states)\n",
    "\n",
    "    return states, start_state, fin_state"
   ]
  },
  {
   "attachments": {},
   "cell_type": "markdown",
   "metadata": {},
   "source": [
    "# Преобразование НКА в ДКА"
   ]
  },
  {
   "cell_type": "code",
   "execution_count": 1035,
   "metadata": {},
   "outputs": [],
   "source": [
    "def determinize(graph: dict,\n",
    "                start_state: str,\n",
    "                fin_state: str):\n",
    "    finites = set()\n",
    "    new_graph = dict()\n",
    "    alphabet = set()\n",
    "\n",
    "    for cur_state in graph.keys():\n",
    "        for transit in graph[cur_state]:\n",
    "            k = (cur_state, transit[0])\n",
    "            alphabet.add(transit[0])\n",
    "            if k not in new_graph.keys():\n",
    "                new_graph[k] = [transit[1]]\n",
    "            else:\n",
    "                new_graph[k].append(transit[1])\n",
    "\n",
    "    all_states = False\n",
    "    while not all_states:\n",
    "        old_keys = list(new_graph.keys())\n",
    "        for cur_state in old_keys:\n",
    "            k = str(' '.join(sorted(new_graph[cur_state])))\n",
    "            for letter in alphabet:\n",
    "                temp = list()\n",
    "                for prev_state in new_graph[cur_state]:\n",
    "                    prev_key = (prev_state, letter)\n",
    "                    if prev_key in old_keys:\n",
    "                        temp.extend(new_graph[prev_key])\n",
    "                if len(temp) > 0:\n",
    "                    tup = (k, letter)\n",
    "                    new_graph[tup] = temp\n",
    "\n",
    "        all_keys = [k for k, _ in list(new_graph.keys())]\n",
    "        for cur_state in new_graph:\n",
    "            new_state = ' '.join(sorted(new_graph[cur_state]))\n",
    "            if new_state in all_keys:\n",
    "                all_states = True\n",
    "            elif new_state in finites:\n",
    "                all_states = True\n",
    "\n",
    "    for cur_state in new_graph.keys():\n",
    "        if fin_state in new_graph[cur_state]:\n",
    "            finites.add(' '.join(sorted(new_graph[cur_state])))\n",
    "            \n",
    "        new_graph[cur_state] = ' '.join(sorted(new_graph[cur_state]))\n",
    "    \n",
    "    old_keys = list(new_graph.keys())\n",
    "    for cur_state in old_keys:\n",
    "        if cur_state[0] not in new_graph.values() and cur_state[0] != start_state:\n",
    "            new_graph.pop(cur_state)\n",
    "\n",
    "    return new_graph, start_state, list(finites)"
   ]
  },
  {
   "attachments": {},
   "cell_type": "markdown",
   "metadata": {},
   "source": [
    "# Разбор регулярного выражения по конечному автомату"
   ]
  },
  {
   "cell_type": "code",
   "execution_count": 1036,
   "metadata": {},
   "outputs": [],
   "source": [
    "def checkup(regexp: str,\n",
    "            s: str) -> bool:\n",
    "    # Построение НКА\n",
    "    nka, start_state, fin_state = create_graph(regexp)\n",
    "    # print(f\"{nka}\\n{start_state}\\n{fin_state}\", end=\"\\n\\n\")\n",
    "\n",
    "    # Удаление е-дуг\n",
    "    nka, start_state, fin_state = lose_emptys(nka, start_state, fin_state)\n",
    "    # print(f\"{nka}\\n{start_state}\\n{fin_state}\", end=\"\\n\\n\")\n",
    "\n",
    "    # Построение ДКА\n",
    "    dka, start_state, fin_state = determinize(nka, start_state, fin_state)\n",
    "    # print(f\"{dka}\\n{start_state}\\n{fin_state}\", end=\"\\n\\n\")\n",
    "\n",
    "    res = False\n",
    "    cur_state = start_state\n",
    "    for symbol in s:\n",
    "        k = (cur_state, symbol)\n",
    "        if k in dka.keys() and cur_state not in fin_state:\n",
    "            cur_state = dka[k]\n",
    "        elif k not in dka.keys():\n",
    "            cur_state = start_state\n",
    "            break\n",
    "    if cur_state in fin_state:\n",
    "        res = True\n",
    "    else:\n",
    "        res = False\n",
    "    \n",
    "    return res"
   ]
  },
  {
   "cell_type": "code",
   "execution_count": 1037,
   "metadata": {},
   "outputs": [
    {
     "name": "stdout",
     "output_type": "stream",
     "text": [
      "False\n",
      "False\n",
      "True\n",
      "True\n",
      "True\n",
      "False\n",
      "False\n",
      "False\n"
     ]
    }
   ],
   "source": [
    "regexp = \"he+n?lo*\"\n",
    "s = [\"hello\", \"hola\", \"hel\", \"henlooo\", \"heeeeeeeeeeeeeelo\", \"hnelo\", \"heenllllllo\", \"helno\"]\n",
    "for i in s:\n",
    "    print(checkup(regexp, i))"
   ]
  },
  {
   "cell_type": "code",
   "execution_count": 1038,
   "metadata": {},
   "outputs": [
    {
     "name": "stdout",
     "output_type": "stream",
     "text": [
      "True\n",
      "False\n",
      "False\n",
      "False\n",
      "True\n",
      "False\n",
      "True\n",
      "False\n"
     ]
    }
   ],
   "source": [
    "regexp = \"he+n?l*o\"\n",
    "s = [\"hello\", \"hola\", \"hel\", \"henlooo\", \"heeeeeeeeeeeeeelo\", \"hnelo\", \"heenllllllo\", \"helno\"]\n",
    "for i in s:\n",
    "    print(checkup(regexp, i))"
   ]
  }
 ],
 "metadata": {
  "kernelspec": {
   "display_name": "base",
   "language": "python",
   "name": "python3"
  },
  "language_info": {
   "codemirror_mode": {
    "name": "ipython",
    "version": 3
   },
   "file_extension": ".py",
   "mimetype": "text/x-python",
   "name": "python",
   "nbconvert_exporter": "python",
   "pygments_lexer": "ipython3",
   "version": "3.9.13"
  },
  "orig_nbformat": 4
 },
 "nbformat": 4,
 "nbformat_minor": 2
}
