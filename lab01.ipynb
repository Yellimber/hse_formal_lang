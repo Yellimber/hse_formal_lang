{
 "cells": [
  {
   "attachments": {},
   "cell_type": "markdown",
   "metadata": {},
   "source": [
    "# Построение НКА по регулярному выражению"
   ]
  },
  {
   "cell_type": "code",
   "execution_count": 128,
   "metadata": {},
   "outputs": [],
   "source": [
    "def star(graph: dict,\n",
    "         symbol: str,\n",
    "         cur_state: int):\n",
    "    graph[f\"A{cur_state}\"] = [(\"EMPTY\", f\"A{cur_state + 1}\")]\n",
    "    cur_state += 1\n",
    "\n",
    "    if len(symbol) == 1:\n",
    "        graph[f\"A{cur_state}\"] = [(symbol, f\"A{cur_state}\")]\n",
    "        cur_state += 1\n",
    "    elif len(symbol) > 1:\n",
    "        start_state = cur_state\n",
    "        for i in symbol:\n",
    "            graph[f\"A{cur_state}\"] = [(i, f\"A{cur_state + 1}\")]\n",
    "            cur_state += 1\n",
    "        \n",
    "        graph[f\"A{cur_state - 1}\"].append((symbol[0], f\"A{start_state}\"))\n",
    "    \n",
    "    graph[f\"A{cur_state - 1}\"].append((\"EMPTY\", f\"A{cur_state}\"))\n",
    "\n",
    "    return graph, cur_state\n",
    "\n",
    "\n",
    "def question(graph: dict,\n",
    "             symbol: str,\n",
    "             cur_state: int):\n",
    "    if len(symbol) == 1:\n",
    "        graph[f\"A{cur_state}\"] = [(symbol, f\"A{cur_state + 1}\")]\n",
    "        cur_state += 1\n",
    "\n",
    "        graph[f\"A{cur_state - 1}\"].append((\"EMPTY\", f\"A{cur_state}\"))\n",
    "    elif len(symbol) > 1:\n",
    "        start_state = cur_state\n",
    "\n",
    "        for i in symbol:\n",
    "            graph[f\"A{cur_state}\"] = [(i, f\"A{cur_state + 1}\")]\n",
    "            cur_state += 1\n",
    "        \n",
    "        graph[f\"A{start_state}\"].append((\"EMPTY\", f\"A{cur_state}\"))\n",
    "\n",
    "    return graph, cur_state\n",
    "\n",
    "\n",
    "def plus(graph: dict,\n",
    "         symbol: str,\n",
    "         cur_state: int):\n",
    "    if len(symbol) == 1:\n",
    "        graph[f\"A{cur_state}\"] = [(symbol, f\"A{cur_state + 1}\")]\n",
    "        cur_state += 1\n",
    "        graph[f\"A{cur_state}\"] = [(symbol, f\"A{cur_state}\")]\n",
    "        cur_state += 1\n",
    "    elif len(symbol) > 1:\n",
    "        start_state = cur_state\n",
    "        for i in symbol:\n",
    "            graph[f\"A{cur_state}\"] = [(i, f\"A{cur_state + 1}\")]\n",
    "            cur_state += 1\n",
    "        \n",
    "        graph[f\"A{cur_state - 1}\"].append((symbol[0], f\"A{start_state}\"))\n",
    "    \n",
    "    graph[f\"A{cur_state - 1}\"].append((\"EMPTY\", f\"A{cur_state}\"))\n",
    "\n",
    "    return graph, cur_state\n",
    "\n",
    "\n",
    "def slash(graph: dict,\n",
    "          symbol: str,\n",
    "          cur_state: int):\n",
    "    pass"
   ]
  },
  {
   "cell_type": "code",
   "execution_count": 129,
   "metadata": {},
   "outputs": [],
   "source": [
    "def create_graph(s: str):\n",
    "    cur_state = 0\n",
    "    graph = dict()\n",
    "\n",
    "    for i in range(len(s)):\n",
    "        if i + 1 < len(s) and s[i + 1] == '*':\n",
    "            graph, cur_state = star(graph, s[i], cur_state)\n",
    "        elif i + 1 < len(s) and s[i + 1] == '+':\n",
    "            graph, cur_state = plus(graph, s[i], cur_state)\n",
    "        elif i + 1 < len(s) and s[i + 1] == '?':\n",
    "            graph, cur_state = question(graph, s[i], cur_state)\n",
    "        elif i + 2 < len(s) and s[i + 1] == '|':\n",
    "            graph, cur_state = slash(graph, s[i], s[i + 2], cur_state)\n",
    "        elif s[i] in ('*', '+', '?', '|'):\n",
    "            continue\n",
    "        else:\n",
    "            graph[f\"A{cur_state}\"] = [(s[i], f\"A{cur_state + 1}\")]\n",
    "            cur_state += 1\n",
    "    \n",
    "    return graph, f\"A{cur_state}\""
   ]
  },
  {
   "cell_type": "code",
   "execution_count": 130,
   "metadata": {},
   "outputs": [
    {
     "data": {
      "text/plain": [
       "{'A0': [('h', 'A1')],\n",
       " 'A1': [('e', 'A2')],\n",
       " 'A2': [('e', 'A2'), ('EMPTY', 'A3')],\n",
       " 'A3': [('n', 'A4'), ('EMPTY', 'A4')],\n",
       " 'A4': [('EMPTY', 'A5')],\n",
       " 'A5': [('l', 'A5'), ('EMPTY', 'A6')],\n",
       " 'A6': [('o', 'A7')]}"
      ]
     },
     "execution_count": 130,
     "metadata": {},
     "output_type": "execute_result"
    }
   ],
   "source": [
    "s = \"he+n?l*o\"\n",
    "nka, fin_state = create_graph(s)\n",
    "nka"
   ]
  },
  {
   "cell_type": "code",
   "execution_count": 131,
   "metadata": {},
   "outputs": [
    {
     "data": {
      "text/plain": [
       "'A7'"
      ]
     },
     "execution_count": 131,
     "metadata": {},
     "output_type": "execute_result"
    }
   ],
   "source": [
    "fin_state"
   ]
  },
  {
   "attachments": {},
   "cell_type": "markdown",
   "metadata": {},
   "source": [
    "# Избавление от е-дуг"
   ]
  },
  {
   "cell_type": "code",
   "execution_count": 133,
   "metadata": {},
   "outputs": [],
   "source": [
    "def check_depth(graph: dict,\n",
    "                cur_state: str,\n",
    "                depth: int = 0,\n",
    "                states: list = list()\n",
    "                ) -> list:\n",
    "    if cur_state in graph.keys():\n",
    "        if depth == 0:\n",
    "            for transit in graph[cur_state]:\n",
    "                if transit[1] not in states and transit[0] != \"EMPTY\":\n",
    "                    states.append(transit[1])\n",
    "                    states.extend(check_depth(graph, transit[1], depth + 1, states))\n",
    "        else:\n",
    "            for transit in graph[cur_state]:\n",
    "                if transit[1] not in states and transit[0] == \"EMPTY\":\n",
    "                    if transit[1] not in states:\n",
    "                        states.append(transit[1])\n",
    "                        states.extend(check_depth(graph, transit[1], depth + 1, states))\n",
    "\n",
    "    states = list(set(states))\n",
    "    \n",
    "    return states"
   ]
  },
  {
   "cell_type": "code",
   "execution_count": 137,
   "metadata": {},
   "outputs": [
    {
     "data": {
      "text/plain": [
       "['A3', 'A2', 'A5', 'A6', 'A4']"
      ]
     },
     "execution_count": 137,
     "metadata": {},
     "output_type": "execute_result"
    }
   ],
   "source": [
    "check_depth(nka, \"A1\", depth=0, states=list())"
   ]
  },
  {
   "cell_type": "code",
   "execution_count": 144,
   "metadata": {},
   "outputs": [],
   "source": [
    "def delete_missing_states(graph: dict) -> dict:\n",
    "    res = dict()\n",
    "\n",
    "    missing = list()\n",
    "    for state in graph.keys():\n",
    "        if len(graph[state]) == 0:\n",
    "            missing.append(state)\n",
    "    \n",
    "    for state in missing:\n",
    "        graph.pop(state)\n",
    "\n",
    "    for state in graph.keys():\n",
    "        res[state] = list()\n",
    "        for transit in graph[state]:\n",
    "            if transit[1] not in missing:\n",
    "                res[state].append(transit)\n",
    "    \n",
    "    return res"
   ]
  },
  {
   "cell_type": "code",
   "execution_count": 157,
   "metadata": {},
   "outputs": [],
   "source": [
    "def lose_emptys(graph: dict,\n",
    "                fin_state: str):\n",
    "    states = dict()\n",
    "    emptys = dict()\n",
    "    for state in graph.keys():\n",
    "        states[state] = list()\n",
    "        emptys[state] = check_depth(graph, state, depth=0, states=list())\n",
    "\n",
    "    for state in states.keys():\n",
    "        for transit in graph[state]:\n",
    "            if transit[0] != \"EMPTY\":\n",
    "                for emp in emptys[state]:\n",
    "                    states[state].append((transit[0], emp))\n",
    "    \n",
    "    states = delete_missing_states(states)\n",
    "\n",
    "    return states"
   ]
  },
  {
   "cell_type": "code",
   "execution_count": 158,
   "metadata": {},
   "outputs": [
    {
     "data": {
      "text/plain": [
       "{'A0': [('h', 'A1')],\n",
       " 'A1': [('e', 'A3'), ('e', 'A2'), ('e', 'A5'), ('e', 'A6')],\n",
       " 'A2': [('e', 'A3'), ('e', 'A2'), ('e', 'A5'), ('e', 'A6')],\n",
       " 'A3': [('n', 'A5'), ('n', 'A6')],\n",
       " 'A5': [('l', 'A5'), ('l', 'A6')],\n",
       " 'A6': [('o', 'A7')]}"
      ]
     },
     "execution_count": 158,
     "metadata": {},
     "output_type": "execute_result"
    }
   ],
   "source": [
    "lose_emptys(nka, fin_state)"
   ]
  },
  {
   "attachments": {},
   "cell_type": "markdown",
   "metadata": {},
   "source": [
    "# Преобразование НКА в ДКА"
   ]
  },
  {
   "cell_type": "code",
   "execution_count": null,
   "metadata": {},
   "outputs": [],
   "source": []
  }
 ],
 "metadata": {
  "kernelspec": {
   "display_name": "base",
   "language": "python",
   "name": "python3"
  },
  "language_info": {
   "codemirror_mode": {
    "name": "ipython",
    "version": 3
   },
   "file_extension": ".py",
   "mimetype": "text/x-python",
   "name": "python",
   "nbconvert_exporter": "python",
   "pygments_lexer": "ipython3",
   "version": "3.9.13"
  },
  "orig_nbformat": 4
 },
 "nbformat": 4,
 "nbformat_minor": 2
}
