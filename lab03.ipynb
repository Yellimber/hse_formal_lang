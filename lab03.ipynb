{
 "cells": [
  {
   "cell_type": "code",
   "execution_count": 60,
   "metadata": {},
   "outputs": [],
   "source": [
    "from lark import Lark\n",
    "from ipytreewidget.ipytreewidget import TreeWidget\n",
    "import lark"
   ]
  },
  {
   "cell_type": "code",
   "execution_count": 61,
   "metadata": {},
   "outputs": [],
   "source": [
    "# gramm = \"\"\"\n",
    "# start: np+\n",
    "\n",
    "# np: [detp] [nump] nounp [advp] [adjp2] | np pp dep_np | np conjp dep_np\n",
    "# adjp2: adjp2 conjp adjp2 | advp adjp np\n",
    "# adjp: ADV pp adjp | [ADJ]\n",
    "# nounp: NOUN | NOUN conjp nounp\n",
    "# nump: NUM\n",
    "# detp: DET\n",
    "# conjp: CONJ\n",
    "# pp: PREP\n",
    "# advp: ADV [advp]\n",
    "# dep_np: [detp] [nump] nounp [advp] [adjp2] | [detp] [nump] nounp [advp] [adjp2] | dep_np conjp dep_np| dep_np pp dep_np\n",
    "\n",
    "# ADV: \"muy\" | \"bastante\" | \"más\" | \"tán\"\n",
    "# ADJ: \"hermoso\" | \"hermosa\" | \"inteligente\" | \"elegante\" | \"joven\" | \"jóvenes\" | \"hermosos\" | \"hermosas\" | \"inteligentes\" | \"elegantes\"\n",
    "# NOUN: \"mujer\" | \"mujeres\" | \"hombre\" | \"hombres\" | \"chica\" | \"chico\" | \"chicas\" | \"chicos\" | \"escuela\" | \"novio\" | \"novia\" | \"novios\" | \"novias\"\n",
    "# NUM: \"cinco\" | \"dos\" | \"tres\" | \"cuatro\" | \"diez\"\n",
    "# DET: \"el\" | \"la\" | \"los\" | \"las\" | \"les\" | \"un\" | \"una\" | \"unos\" | \"unas\"\n",
    "# CONJ: \"con\" | \"contigo\" | \"conmigo\"\n",
    "# PREP: \"a\" | \"para\" | \"en\" | \"hasta\" | \"de\" | \"del\"\n",
    "\n",
    "# %import common.WS\n",
    "# %ignore WS\n",
    "# \"\"\""
   ]
  },
  {
   "cell_type": "code",
   "execution_count": 62,
   "metadata": {},
   "outputs": [],
   "source": [
    "# parser = Lark(gramm)"
   ]
  },
  {
   "cell_type": "code",
   "execution_count": 63,
   "metadata": {},
   "outputs": [],
   "source": [
    "# text = \"las mujeres elegantes\""
   ]
  },
  {
   "cell_type": "code",
   "execution_count": 64,
   "metadata": {},
   "outputs": [],
   "source": [
    "# t = parser.parse(text)\n",
    "# print(t)"
   ]
  },
  {
   "cell_type": "code",
   "execution_count": 65,
   "metadata": {},
   "outputs": [],
   "source": [
    "gr = \"\"\"\n",
    "start: np\n",
    "np: [detp] [nump] nounp [advp] [adjp] | [detp] [nump] pronp [advp] [adjp] | np pp dep_np | np conjp dep_np\n",
    "detp: DET | DEP_PRONS\n",
    "nounp: NOUN\n",
    "adjp: ADJ | adjp conjp ADJ\n",
    "nump: NUM+\n",
    "advp: ADV\n",
    "pp: PREP\n",
    "conjp: CONJ\n",
    "pronp: PRONOUN\n",
    "dep_np: [detp] [nump] [nounp] [advp] [adjp] | [detp] [nump] [pronp] [advp] [adjp]\n",
    "\n",
    "ADV: \"muy\" | \"bastante\" | \"más\" | \"tán\"\n",
    "ADJ: \"hermoso\" | \"hermosa\" | \"inteligente\" | \"elegante\" | \"joven\" | \"jóvenes\" | \"hermosos\" | \"hermosas\" | \"inteligentes\" | \"elegantes\"\n",
    "NOUN: \"mujer\" | \"mujeres\" | \"hombre\" | \"hombres\" | \"chica\" | \"chico\" | \"chicas\" | \"chicos\" | \"escuela\" | \"novio\" | \"novia\" | \"novios\" | \"novias\"\n",
    "NUM: \"cinco\" | \"dos\" | \"tres\" | \"cuatro\" | \"diez\" | \"y\" | \"treinta\" | \"uno\" | \"una\"\n",
    "DET: \"el\" | \"la\" | \"los\" | \"las\" | \"les\" | \"un\" | \"una\" | \"unos\" | \"unas\"\n",
    "CONJ: \"con\"| \"y\" | \"e\" | \"contigo\" | \"conmigo\"\n",
    "PREP: \"a\" | \"para\" | \"en\" | \"hasta\" | \"del\" | \"de\"\n",
    "PRONOUN: \"él\" | \"ella\" | \"ello\" | \"ellas\" | \"ellos\"\n",
    "DEP_PRONS: \"su\" | \"sus\" | \"mi\" | \"mis\" \n",
    "\n",
    "%import common.WS\n",
    "%ignore WS\n",
    "\"\"\"\n",
    "\n",
    "pr = Lark(gr)"
   ]
  },
  {
   "cell_type": "code",
   "execution_count": 66,
   "metadata": {},
   "outputs": [
    {
     "data": {
      "text/plain": [
       "Tree(Token('RULE', 'start'), [Tree(Token('RULE', 'np'), [Tree(Token('RULE', 'np'), [Tree(Token('RULE', 'np'), [Tree(Token('RULE', 'detp'), [Token('DET', 'unas')]), Tree(Token('RULE', 'nump'), [Token('NUM', 'treinta'), Token('NUM', 'y'), Token('NUM', 'dos')]), Tree(Token('RULE', 'nounp'), [Token('NOUN', 'mujeres')]), Tree(Token('RULE', 'advp'), [Token('ADV', 'tán')]), Tree(Token('RULE', 'adjp'), [Token('ADJ', 'elegantes')])]), Tree(Token('RULE', 'conjp'), [Token('CONJ', 'con')]), Tree(Token('RULE', 'dep_np'), [Tree(Token('RULE', 'detp'), [Token('DEP_PRONS', 'sus')]), None, Tree(Token('RULE', 'nounp'), [Token('NOUN', 'chicos')]), Tree(Token('RULE', 'advp'), [Token('ADV', 'más')]), Tree(Token('RULE', 'adjp'), [Token('ADJ', 'inteligentes')])])]), Tree(Token('RULE', 'pp'), [Token('PREP', 'de')]), Tree(Token('RULE', 'dep_np'), [Tree(Token('RULE', 'detp'), [Token('DET', 'la')]), None, Tree(Token('RULE', 'nounp'), [Token('NOUN', 'escuela')]), None, None])])])"
      ]
     },
     "execution_count": 66,
     "metadata": {},
     "output_type": "execute_result"
    }
   ],
   "source": [
    "text = \"unas treinta y dos mujeres tán elegantes con sus chicos más inteligentes de la escuela\"\n",
    "pr.parse(text)"
   ]
  },
  {
   "cell_type": "code",
   "execution_count": 67,
   "metadata": {},
   "outputs": [
    {
     "name": "stdout",
     "output_type": "stream",
     "text": [
      "start\n",
      "  np\n",
      "    np\n",
      "      np\n",
      "        detp\tunas\n",
      "        nump\n",
      "          treinta\n",
      "          y\n",
      "          dos\n",
      "        nounp\tmujeres\n",
      "        advp\ttán\n",
      "        adjp\telegantes\n",
      "      conjp\tcon\n",
      "      dep_np\n",
      "        detp\tsus\n",
      "        None\n",
      "        nounp\tchicos\n",
      "        advp\tmás\n",
      "        adjp\tinteligentes\n",
      "    pp\tde\n",
      "    dep_np\n",
      "      detp\tla\n",
      "      None\n",
      "      nounp\tescuela\n",
      "      None\n",
      "      None\n",
      "\n"
     ]
    }
   ],
   "source": [
    "print(pr.parse(text).pretty())"
   ]
  },
  {
   "cell_type": "code",
   "execution_count": 68,
   "metadata": {},
   "outputs": [
    {
     "name": "stdout",
     "output_type": "stream",
     "text": [
      "start\n",
      "  np\n",
      "    np\n",
      "      detp\tlas\n",
      "      nump\tcinco\n",
      "      nounp\tmujeres\n",
      "      advp\tmuy\n",
      "      adjp\tjóvenes\n",
      "    conjp\tcon\n",
      "    dep_np\n",
      "      None\n",
      "      nump\tdos\n",
      "      nounp\tchicos\n",
      "      advp\ttán\n",
      "      adjp\tinteligentes\n",
      "\n"
     ]
    }
   ],
   "source": [
    "text = \"las cinco mujeres muy jóvenes con dos chicos tán inteligentes\"\n",
    "print(pr.parse(text).pretty())"
   ]
  },
  {
   "cell_type": "code",
   "execution_count": 69,
   "metadata": {},
   "outputs": [
    {
     "name": "stdout",
     "output_type": "stream",
     "text": [
      "start\n",
      "  np\n",
      "    np\n",
      "      detp\tlas\n",
      "      nump\tcinco\n",
      "      nounp\tmujeres\n",
      "      advp\tmuy\n",
      "      adjp\n",
      "        adjp\tjóvenes\n",
      "        conjp\ty\n",
      "        hermosas\n",
      "    conjp\tcon\n",
      "    dep_np\n",
      "      None\n",
      "      nump\tdos\n",
      "      nounp\tchicos\n",
      "      advp\ttán\n",
      "      adjp\tinteligentes\n",
      "\n"
     ]
    }
   ],
   "source": [
    "text = \"las cinco mujeres muy jóvenes y hermosas con dos chicos tán inteligentes\"\n",
    "print(pr.parse(text).pretty())"
   ]
  },
  {
   "cell_type": "code",
   "execution_count": 70,
   "metadata": {},
   "outputs": [],
   "source": [
    "text = \"treinta y dos chicos bastante jóvenes e inteligentes de mi escuela contigo\"\n",
    "tree = pr.parse(text)"
   ]
  },
  {
   "cell_type": "code",
   "execution_count": 71,
   "metadata": {},
   "outputs": [
    {
     "name": "stdout",
     "output_type": "stream",
     "text": [
      "start\n",
      "  np\n",
      "    np\n",
      "      np\n",
      "        None\n",
      "        nump\n",
      "          treinta\n",
      "          y\n",
      "          dos\n",
      "        nounp\tchicos\n",
      "        advp\tbastante\n",
      "        adjp\n",
      "          adjp\tjóvenes\n",
      "          conjp\te\n",
      "          inteligentes\n",
      "      pp\tde\n",
      "      dep_np\n",
      "        detp\tmi\n",
      "        None\n",
      "        nounp\tescuela\n",
      "        None\n",
      "        None\n",
      "    conjp\tcontigo\n",
      "    dep_np\n",
      "      None\n",
      "      None\n",
      "      None\n",
      "      None\n",
      "      None\n",
      "\n"
     ]
    }
   ],
   "source": [
    "print(tree.pretty())"
   ]
  }
 ],
 "metadata": {
  "kernelspec": {
   "display_name": "base",
   "language": "python",
   "name": "python3"
  },
  "language_info": {
   "codemirror_mode": {
    "name": "ipython",
    "version": 3
   },
   "file_extension": ".py",
   "mimetype": "text/x-python",
   "name": "python",
   "nbconvert_exporter": "python",
   "pygments_lexer": "ipython3",
   "version": "3.9.13"
  },
  "orig_nbformat": 4
 },
 "nbformat": 4,
 "nbformat_minor": 2
}
